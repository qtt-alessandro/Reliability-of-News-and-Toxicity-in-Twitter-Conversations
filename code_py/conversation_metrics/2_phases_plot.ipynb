{
 "cells": [
  {
   "cell_type": "code",
   "execution_count": 1,
   "metadata": {},
   "outputs": [],
   "source": [
    "import pandas as pd \n",
    "import ast\n",
    "import pandas as pd\n",
    "import glob\n",
    "import os \n",
    "from tqdm import tqdm\n",
    "import numpy as np\n",
    "import ast\n",
    "import collections\n",
    "from tqdm import tqdm\n",
    "import datetime\n",
    "import igraph as ig \n",
    "import networkx as nx \n",
    "from collections import defaultdict\n",
    "pd.options.mode.chained_assignment = None"
   ]
  },
  {
   "cell_type": "code",
   "execution_count": 2,
   "metadata": {},
   "outputs": [],
   "source": [
    "outlets = [ 'rt_com', 'dailyherald', 'parentsmagazine', 'TheGoodGodAbove', 'bright_side_me', 'TheMarySue', 'ChinaDailyUSA', 'nbc6', 'MediaTakeoutTV', 'NationalMemo', 'newsandguts', 'theinquisitr', 'VoiceofPD', 'mercola', 'CBSLA', 'veteranstoday', 'NewsOn6', 'thedailybanter', 'unhealthytruth', 'Greg_Palast', 'lifebiomedguru', 'V_of_Europe', 'voguemagazine', 'TheOhioStar', 'MadWorldNews', 'PoliTribune', 'strange_sounds', 'realdennislynch', 'NatEnquirer', 'thrive', 'PanData19','ascienthusiast', 'BIZPACReview', 'FoxNews', 'drchrisnorthrup', 'healthychildren', 'NewsBecker', 'chicksonright', 'USATODAY', 'WayneDupreeShow', 'scarymommy', 'EpochTimes', 'ebonymag', 'NYDailyNews', 'twpundit', 'thetnstar', 'houstonpress', 'WGNRadio', 'nypost', 'tassagency_en', 'wearemitu', 'percolately', 'GeorgiaStarNews', 'mindys4Biden', 'esquire', 'KyivIndependent', 'digg', 'nra', 'voxdotcom', 'CNN', 'FDRLST', 'nytimes', 'BreitbartNews', 'KyivPost', 'SputnikInt']"
   ]
  },
  {
   "cell_type": "code",
   "execution_count": 3,
   "metadata": {},
   "outputs": [],
   "source": [
    "ng = pd.read_csv('/Users/alessandroquattrociocchi/Documents/data/NewsGuard/Countries/USA_newsguard_handle.csv')\n",
    "f = pd.DataFrame(columns=['outlet_name','tweet_id','reliability_score','reliability_label','toxicity_score'])\n",
    "f.to_csv('/Users/alessandroquattrociocchi/Documents/data/Twitter/comments_labelled_newsguard/two_phases_plot.csv', index=False)\n",
    "old_df = pd.read_csv('/Users/alessandroquattrociocchi/Documents/data/Twitter/comments_labelled_newsguard/two_phases_plot.csv')"
   ]
  },
  {
   "cell_type": "code",
   "execution_count": 4,
   "metadata": {},
   "outputs": [],
   "source": [
    "def preprocessing_df(df): \n",
    "    df = df[df['id'].notna()]\n",
    "    df = df[df['replied_id'].notna()]\n",
    "    #df['id'] = pd.to_numeric(df['id'])\n",
    "    #df['replied_id'] = pd.to_numeric(df['replied_id'])\n",
    "    #df = df[df['replied_id'].apply(lambda x: x.isnumeric())]\n",
    "    df['created_at'] = pd.to_datetime(df['created_at'])\n",
    "    df['toxicity_score'] = pd.to_numeric(df['toxicity_score'])\n",
    "    df.sort_values(by='created_at', inplace=True)\n",
    "    df.reset_index(drop=True, inplace=True)\n",
    "    return df"
   ]
  },
  {
   "cell_type": "code",
   "execution_count": 5,
   "metadata": {},
   "outputs": [
    {
     "name": "stderr",
     "output_type": "stream",
     "text": [
      "100%|██████████| 7/7 [14:22<00:00, 123.15s/it]\n"
     ]
    }
   ],
   "source": [
    "from collections import defaultdict\n",
    "get_results_dict = defaultdict(list)\n",
    "overall_unique_users = []\n",
    "total_comments = 0 \n",
    "toxicity_threshold_list = np.arange(0.3,1,0.1)\n",
    "comments_per_outlet = collections.defaultdict(dict)\n",
    "path = '/Users/alessandroquattrociocchi/Documents/data/Twitter/comments_labelled_newsguard/perspective_eval/'\n",
    "### creating difctionaries\n",
    "very_low = defaultdict(list)\n",
    "low = defaultdict(list)\n",
    "mixed = defaultdict(list)\n",
    "high = defaultdict(list)\n",
    "very_high = defaultdict(list)\n",
    "\n",
    "for toxicity_threshold in tqdm(toxicity_threshold_list):\n",
    "    get_results_dict = defaultdict(list)\n",
    "    for outlet in (outlets):\n",
    "        \n",
    "        all_files = glob.glob(os.path.join(path + str(outlet) , \"*.csv.xz\"))\n",
    "        for filename in (all_files):\n",
    "            s = filename.split('/')\n",
    "            tweet_id = s[-1][:-7]\n",
    "            df = pd.read_csv(filename, index_col=None, header=0, low_memory=False,dtype=str)\n",
    "\n",
    "\n",
    "            try: \n",
    "                df = df[['id','replied_id', 'author_id','in_reply_to_user_id', 'created_at', 'lang',\n",
    "                'conversation_id', 'text', 'source','toxicity_score']]\n",
    "            except:\n",
    "                df.rename(columns={'perspective_score': 'toxicity_score'}, inplace=True)\n",
    "                df = df[['id','replied_id', 'author_id','in_reply_to_user_id', 'created_at', 'lang',\n",
    "                'conversation_id', 'text', 'source','toxicity_score']]\n",
    "\n",
    "            #df = preprocessing_df(df)\n",
    "            df = df[df['id'].notna()]\n",
    "            df = df[df['replied_id'].notna()]\n",
    "            #df['id'] = pd.to_numeric(df['id'])\n",
    "            #df['replied_id'] = pd.to_numeric(df['replied_id'])\n",
    "            #df = df[df['replied_id'].apply(lambda x: x.isnumeric())]\n",
    "            df['created_at'] = pd.to_datetime(df['created_at'])\n",
    "            df['toxicity_score'] = pd.to_numeric(df['toxicity_score'])\n",
    "            df.sort_values(by='created_at', inplace=True)\n",
    "            df.reset_index(drop=True, inplace=True)\n",
    "\n",
    "            toxic_df = df[df['toxicity_score'] >= toxicity_threshold]\n",
    "            \n",
    "            try:\n",
    "                get_results_dict['toxicity_ratio'].append(len(toxic_df)/len(df))\n",
    "            except:\n",
    "                get_results_dict['toxicity_ratio'].append(0)\n",
    "\n",
    "            #retrieving the tweet identifier\n",
    "            get_results_dict['tweet_id'].append(df.conversation_id[0])\n",
    "            #retrieving the outlet's name\n",
    "            get_results_dict['outlet_name'].append(outlet)\n",
    "            #retrieving the outlet's score\n",
    "            get_results_dict['outlet_score'].append(ng[ng['Twitter Handle'] == outlet].Score.values[0])\n",
    "            #retrieving the outlet's flag\n",
    "            get_results_dict['outlet_flag'].append(ng[ng['Twitter Handle'] == outlet].Rating.values[0])\n",
    "            #retrieving the number of comments under a discussion \n",
    "            get_results_dict['n_comments'].append(df.shape[0])\n",
    "            #retrieving the unique users\n",
    "            get_results_dict['unique_users'].append(len(set(df.author_id.tolist() + df.in_reply_to_user_id.tolist())))\n",
    "            #retrieving the numer of comments in the first 10 minutes\n",
    "\n",
    "\n",
    "    xdf = pd.DataFrame(get_results_dict)\n",
    "\n",
    "    very_low[toxicity_threshold] = sum(xdf[(xdf['outlet_score'] > 0) & (xdf['outlet_score'] <= 20)]['toxicity_ratio']>0)\n",
    "    low[toxicity_threshold] = sum(xdf[(xdf['outlet_score'] > 20) & (xdf['outlet_score'] <= 40)]['toxicity_ratio']>0)\n",
    "    mixed[toxicity_threshold] = sum(xdf[(xdf['outlet_score'] > 40) & (xdf['outlet_score'] <= 60)]['toxicity_ratio']>0)\n",
    "    high[toxicity_threshold] = sum(xdf[(xdf['outlet_score'] > 60) & (xdf['outlet_score'] <= 80)]['toxicity_ratio']>0)\n",
    "    very_high[toxicity_threshold] = sum(xdf[(xdf['outlet_score'] > 80) & (xdf['outlet_score'] <= 100)]['toxicity_ratio']>0)\n"
   ]
  },
  {
   "cell_type": "code",
   "execution_count": 20,
   "metadata": {},
   "outputs": [
    {
     "data": {
      "text/plain": [
       "dict_values([3098, 2966, 2748, 2358, 1985, 1301, 359])"
      ]
     },
     "execution_count": 20,
     "metadata": {},
     "output_type": "execute_result"
    }
   ],
   "source": [
    "very_high.values()"
   ]
  },
  {
   "cell_type": "code",
   "execution_count": 21,
   "metadata": {},
   "outputs": [],
   "source": [
    "p = {#'index': [0 , 0.1 , 0.2, 0.3, 0.4, 0.5, 0.6, 0.7, 0.8, 0.9], \n",
    "     'very_low': [6974, 6628, 6083, 4941, 3920, 2275, 541],\n",
    "     'low': [1393, 1277, 1104, 792, 554, 258, 55], \n",
    "     'mixed': [7078, 6720, 6063, 4761, 3607, 1944, 377], \n",
    "     'high': [5788, 5571, 5308, 4790, 4276, 3191, 1154], \n",
    "     'very_high': [3098, 2966, 2748, 2358, 1985, 1301, 359]}"
   ]
  },
  {
   "cell_type": "code",
   "execution_count": 23,
   "metadata": {},
   "outputs": [],
   "source": [
    "y = list(very_low.values()) + list(low.values()) + list(mixed.values()) + list(high.values()) + list(very_high.values())"
   ]
  },
  {
   "cell_type": "code",
   "execution_count": 24,
   "metadata": {},
   "outputs": [],
   "source": [
    "alpha = len(np.arange(0.3,1,0.1))\n",
    "v= alpha*['very_low'] + alpha*['low'] + alpha*['mixed'] + alpha*['high'] + alpha*['very_high']"
   ]
  },
  {
   "cell_type": "code",
   "execution_count": 26,
   "metadata": {},
   "outputs": [],
   "source": [
    "x = 5*[0.3, 0.4, 0.5, 0.6, 0.7, 0.8, 0.9]"
   ]
  },
  {
   "cell_type": "code",
   "execution_count": 27,
   "metadata": {},
   "outputs": [],
   "source": [
    "l = {'x':x,'y': y, 'label':v}"
   ]
  },
  {
   "cell_type": "code",
   "execution_count": 28,
   "metadata": {},
   "outputs": [],
   "source": [
    "p = pd.DataFrame(l)"
   ]
  },
  {
   "cell_type": "code",
   "execution_count": 30,
   "metadata": {},
   "outputs": [],
   "source": [
    "p.to_csv('/Users/alessandroquattrociocchi/Git/free-speech-analysis/thresholds_plot.csv', index=False)"
   ]
  },
  {
   "cell_type": "code",
   "execution_count": null,
   "metadata": {},
   "outputs": [],
   "source": []
  }
 ],
 "metadata": {
  "interpreter": {
   "hash": "43dc96d61c1ca8432abb54e178d8b53c2b68e12f28571b70ab00467b01e23138"
  },
  "kernelspec": {
   "display_name": "Python 3.9.10 ('thesis_env')",
   "language": "python",
   "name": "python3"
  },
  "language_info": {
   "codemirror_mode": {
    "name": "ipython",
    "version": 3
   },
   "file_extension": ".py",
   "mimetype": "text/x-python",
   "name": "python",
   "nbconvert_exporter": "python",
   "pygments_lexer": "ipython3",
   "version": "3.9.10"
  },
  "orig_nbformat": 4
 },
 "nbformat": 4,
 "nbformat_minor": 2
}
